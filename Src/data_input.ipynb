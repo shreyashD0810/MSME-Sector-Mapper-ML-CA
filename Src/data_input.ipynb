{
 "cells": [
  {
   "cell_type": "code",
   "execution_count": 1,
   "id": "ac499c7e",
   "metadata": {},
   "outputs": [
    {
     "name": "stdout",
     "output_type": "stream",
     "text": [
      "Requirement already satisfied: requests in c:\\users\\shrey\\appdata\\local\\programs\\python\\python311\\lib\\site-packages (2.32.5)\n",
      "Requirement already satisfied: pandas in c:\\users\\shrey\\appdata\\local\\programs\\python\\python311\\lib\\site-packages (2.3.3)\n",
      "Requirement already satisfied: charset_normalizer<4,>=2 in c:\\users\\shrey\\appdata\\local\\programs\\python\\python311\\lib\\site-packages (from requests) (3.4.3)\n",
      "Requirement already satisfied: idna<4,>=2.5 in c:\\users\\shrey\\appdata\\local\\programs\\python\\python311\\lib\\site-packages (from requests) (3.10)\n",
      "Requirement already satisfied: urllib3<3,>=1.21.1 in c:\\users\\shrey\\appdata\\local\\programs\\python\\python311\\lib\\site-packages (from requests) (2.5.0)\n",
      "Requirement already satisfied: certifi>=2017.4.17 in c:\\users\\shrey\\appdata\\local\\programs\\python\\python311\\lib\\site-packages (from requests) (2025.10.5)\n",
      "Requirement already satisfied: numpy>=1.23.2 in c:\\users\\shrey\\appdata\\local\\programs\\python\\python311\\lib\\site-packages (from pandas) (2.3.3)\n",
      "Requirement already satisfied: python-dateutil>=2.8.2 in c:\\users\\shrey\\appdata\\local\\programs\\python\\python311\\lib\\site-packages (from pandas) (2.9.0.post0)\n",
      "Requirement already satisfied: pytz>=2020.1 in c:\\users\\shrey\\appdata\\local\\programs\\python\\python311\\lib\\site-packages (from pandas) (2025.2)\n",
      "Requirement already satisfied: tzdata>=2022.7 in c:\\users\\shrey\\appdata\\local\\programs\\python\\python311\\lib\\site-packages (from pandas) (2025.2)\n",
      "Requirement already satisfied: six>=1.5 in c:\\users\\shrey\\appdata\\local\\programs\\python\\python311\\lib\\site-packages (from python-dateutil>=2.8.2->pandas) (1.17.0)\n",
      "Note: you may need to restart the kernel to use updated packages.\n"
     ]
    },
    {
     "name": "stderr",
     "output_type": "stream",
     "text": [
      "\n",
      "[notice] A new release of pip available: 22.3.1 -> 25.3\n",
      "[notice] To update, run: python.exe -m pip install --upgrade pip\n"
     ]
    }
   ],
   "source": [
    "pip install requests pandas"
   ]
  },
  {
   "cell_type": "code",
   "execution_count": 2,
   "id": "64c505f3",
   "metadata": {},
   "outputs": [
    {
     "name": "stdout",
     "output_type": "stream",
     "text": [
      "\n",
      "⬇️ Fetching data for: MAHARASHTRA...\n",
      "⚠️ Timeout/error. Retrying in 5s...\n",
      "⚠️ Timeout/error. Retrying in 5s...\n",
      "⚠️ Timeout/error. Retrying in 10s...\n",
      "⚠️ Timeout/error. Retrying in 15s...\n",
      "⚠️ Timeout/error. Retrying in 20s...\n",
      "⚠️ Timeout/error. Retrying in 25s...\n",
      "❌ Skipping MAHARASHTRA after multiple failures.\n",
      "📁 Saved: msme_MAHARASHTRA.csv\n"
     ]
    }
   ],
   "source": [
    "import requests\n",
    "import pandas as pd\n",
    "import time\n",
    "\n",
    "API_KEY = \"579b464db66ec23bdd00000108116827059c448a4869b2777966c12b\"\n",
    "BASE_URL = \"https://api.data.gov.in/resource/8b68ae56-84cf-4728-a0a6-1be11028dea7\"\n",
    "LIMIT = 100\n",
    "\n",
    "STATES = [\"MAHARASHTRA\"]\n",
    "\n",
    "MAX_PER_STATE = 100000  # ✅ This controls how many per state\n",
    "\n",
    "headers = {\"User-Agent\": \"Mozilla/5.0\", \"Accept\": \"application/json\"}\n",
    "\n",
    "for state in STATES:\n",
    "    print(f\"\\n⬇️ Fetching data for: {state}...\")\n",
    "    OFFSET = 0\n",
    "    all_records = []\n",
    "    retry_count = 0\n",
    "\n",
    "    while True:\n",
    "        params = {\n",
    "            \"api-key\": API_KEY,\n",
    "            \"format\": \"json\",\n",
    "            \"limit\": LIMIT,\n",
    "            \"offset\": OFFSET,\n",
    "            \"filters[State]\": state\n",
    "        }\n",
    "\n",
    "        try:\n",
    "            response = requests.get(BASE_URL, params=params, headers=headers, timeout=60)\n",
    "            response.raise_for_status()\n",
    "            data = response.json()\n",
    "        except Exception as e:\n",
    "            retry_count += 1\n",
    "            if retry_count > 5:\n",
    "                print(f\"❌ Skipping {state} after multiple failures.\")\n",
    "                break\n",
    "            wait_time = 5 * retry_count\n",
    "            print(f\"⚠️ Timeout/error. Retrying in {wait_time}s...\")\n",
    "            time.sleep(wait_time)\n",
    "            continue\n",
    "\n",
    "        retry_count = 0  \n",
    "\n",
    "        if \"records\" not in data or not data[\"records\"]:\n",
    "            print(f\"✅ Completed {state} with {len(all_records)} records.\")\n",
    "            break\n",
    "\n",
    "        all_records.extend(data[\"records\"])\n",
    "        OFFSET += LIMIT\n",
    "        print(f\"  → {len(all_records)} records fetched...\", end=\"\\r\")\n",
    "\n",
    "        # ✅ STOP IF REACHED LIMIT FOR THIS STATE\n",
    "        if len(all_records) >= MAX_PER_STATE:\n",
    "            print(f\"\\n✅ Reached {MAX_PER_STATE} records for {state}. Moving to next state.\")\n",
    "            break\n",
    "\n",
    "        time.sleep(1)\n",
    "\n",
    "    if all_records:\n",
    "        df = pd.DataFrame(all_records)\n",
    "        filename = f\"msme_{state.replace(' ', '_')}.csv\"\n",
    "        df.to_csv(filename, index=False)\n",
    "        print(f\"📁 Saved: {filename}\")\n",
    "    else:\n",
    "        print(f\"⚠️ No data saved for {state}\")\n"
   ]
  },
  {
   "cell_type": "code",
   "execution_count": null,
   "id": "257f2a4a",
   "metadata": {},
   "outputs": [],
   "source": []
  }
 ],
 "metadata": {
  "kernelspec": {
   "display_name": "Python 3",
   "language": "python",
   "name": "python3"
  },
  "language_info": {
   "codemirror_mode": {
    "name": "ipython",
    "version": 3
   },
   "file_extension": ".py",
   "mimetype": "text/x-python",
   "name": "python",
   "nbconvert_exporter": "python",
   "pygments_lexer": "ipython3",
   "version": "3.11.1"
  }
 },
 "nbformat": 4,
 "nbformat_minor": 5
}

{
 "cells": [
  {
   "cell_type": "code",
   "execution_count": null,
   "id": "83f467ed",
   "metadata": {},
   "outputs": [
    {
     "name": "stdout",
     "output_type": "stream",
     "text": [
      "PREDICTIONS FOR NEW DISTRICTS:\n",
      "  District_Name  MSME_Density  Micro_Ratio  Predicted_Performance  \\\n",
      "0      Sample A           0.8          0.7                      1   \n",
      "1      Sample B           0.3          0.5                      1   \n",
      "2      Sample C           0.6          0.6                      1   \n",
      "3      Sample D           0.9          0.8                      1   \n",
      "\n",
      "   Performance_Probability  \n",
      "0                     0.99  \n",
      "1                     0.99  \n",
      "2                     0.99  \n",
      "3                     0.99  \n",
      "\n",
      "New predictions saved to 'new_district_predictions.csv'\n"
     ]
    }
   ],
   "source": [
    "import pandas as pd\n",
    "import joblib\n",
    "\n",
    "# Load saved model\n",
    "model = joblib.load('district_model.pkl')\n",
    "features = joblib.load('district_features.pkl')\n",
    "\n",
    "\n",
    "new_data = pd.read_csv(\"\")\n",
    "\n",
    "# Make predictions\n",
    "new_data['Predicted_Performance'] = model.predict(new_data[features])\n",
    "new_data['Performance_Probability'] = model.predict_proba(new_data[features])[:, 1]\n",
    "\n",
    "print(\"PREDICTIONS FOR NEW DISTRICTS:\")\n",
    "print(new_data[['District_Name', 'MSME_Density', 'Micro_Ratio', 'Predicted_Performance', 'Performance_Probability']])\n",
    "\n",
    "# Save new predictions\n",
    "new_data.to_csv('new_district_predictions.csv', index=False)\n",
    "print(\"\\nNew predictions saved to 'new_district_predictions.csv'\")"
   ]
  },
  {
   "cell_type": "code",
   "execution_count": null,
   "id": "3cda9be3",
   "metadata": {},
   "outputs": [],
   "source": []
  }
 ],
 "metadata": {
  "kernelspec": {
   "display_name": "Python 3",
   "language": "python",
   "name": "python3"
  },
  "language_info": {
   "codemirror_mode": {
    "name": "ipython",
    "version": 3
   },
   "file_extension": ".py",
   "mimetype": "text/x-python",
   "name": "python",
   "nbconvert_exporter": "python",
   "pygments_lexer": "ipython3",
   "version": "3.11.1"
  }
 },
 "nbformat": 4,
 "nbformat_minor": 5
}
